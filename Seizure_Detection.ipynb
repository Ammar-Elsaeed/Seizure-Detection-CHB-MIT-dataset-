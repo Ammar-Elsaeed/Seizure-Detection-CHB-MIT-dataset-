{
 "cells": [
  {
   "cell_type": "code",
   "execution_count": 17,
   "metadata": {},
   "outputs": [],
   "source": [
    "import pandas as pd\n",
    "from sklearn.svm import SVC\n",
    "from sklearn.metrics import accuracy_score\n",
    "from utilities import *\n"
   ]
  },
  {
   "cell_type": "markdown",
   "metadata": {},
   "source": [
    "## Loading The data"
   ]
  },
  {
   "cell_type": "code",
   "execution_count": 18,
   "metadata": {},
   "outputs": [
    {
     "name": "stdout",
     "output_type": "stream",
     "text": [
      "Index(['# FP1-F7', 'C3-P3', 'C4-P4', 'CZ-PZ', 'F3-C3', 'F4-C4', 'F7-T7',\n",
      "       'F8-T8', 'FP1-F3', 'FP2-F4', 'FP2-F8', 'FT10-T8', 'FT9-FT10', 'FZ-CZ',\n",
      "       'P3-O1', 'P4-O2', 'P7-O1', 'P7-T7', 'P8-O2', 'T7-FT9', 'T7-P7',\n",
      "       'T8-P8-0', 'T8-P8-1', 'Outcome'],\n",
      "      dtype='object')\n",
      "(1048575, 24)\n",
      "(1048575, 24)\n",
      "68.2666015625\n"
     ]
    }
   ],
   "source": [
    "#Load signal \n",
    "data = pd.read_csv('chbmit_preprocessed_data.csv')\n",
    "data.columns\n",
    "grouped_data = data.groupby('Outcome')\n",
    "preictal_data = grouped_data.get_group(0)\n",
    "ictal_data = grouped_data.get_group(1)\n",
    "#  data exploration \n",
    "print(preictal_data.columns)\n",
    "print(preictal_data.shape)\n",
    "print(ictal_data.shape)\n",
    "print(preictal_data.shape[0]/(256*60)) # print length of recording in minutes, 256 is sampling frequency"
   ]
  },
  {
   "cell_type": "markdown",
   "metadata": {},
   "source": [
    "## Preprocessing The data"
   ]
  },
  {
   "cell_type": "code",
   "execution_count": 19,
   "metadata": {},
   "outputs": [],
   "source": [
    "# create trials split data to train and test\n",
    "subsetted_preictal, labels_preictal = subset_trials(preictal_data,1)\n",
    "subsetted_ictal, labels_ictal = subset_trials(ictal_data,1)\n",
    "all_trials = np.concatenate((subsetted_preictal,subsetted_ictal), axis=0) # 136 * 15360 * 23\n",
    "all_labels = np.concatenate((labels_preictal,labels_ictal), axis=0) #Zero is preictal, 1 is ictal"
   ]
  },
  {
   "cell_type": "markdown",
   "metadata": {},
   "source": [
    "## Classifier Performance on CV data with no selection, and with different methods of selection/reduction "
   ]
  },
  {
   "cell_type": "code",
   "execution_count": 20,
   "metadata": {},
   "outputs": [
    {
     "name": "stdout",
     "output_type": "stream",
     "text": [
      "0.9272727272727272\n"
     ]
    }
   ],
   "source": [
    "# features = np.concatenate((freq_features(all_trials),stat_features(all_trials)), axis=1)\n",
    "X_train, X_test, Y_train, Y_test = split_data(extract_features(all_trials),all_labels, 0.4)\n",
    "trainer = SVC(kernel='sigmoid')\n",
    "trainer.fit(X_train,Y_train)\n",
    "print(accuracy_score(Y_test,trainer.predict(X_test)))\n",
    "# -------------------------\n",
    "X_test, X_cv, y_test, y_cv = split_data(X_test, Y_test, 0.5, False)"
   ]
  },
  {
   "cell_type": "code",
   "execution_count": 21,
   "metadata": {},
   "outputs": [
    {
     "name": "stdout",
     "output_type": "stream",
     "text": [
      "0.9642857142857143 "
     ]
    }
   ],
   "source": [
    "X_train_reduced, X_test_reduced, X_cv_reduced = mutual_info(X_train, X_test, X_cv, Y_train,10)\n",
    "trainer = SVC(kernel='sigmoid')\n",
    "trainer.fit(X_train_reduced,Y_train)\n",
    "print(accuracy_score(y_cv,trainer.predict(X_cv_reduced)), end=' ')"
   ]
  },
  {
   "cell_type": "code",
   "execution_count": 22,
   "metadata": {},
   "outputs": [
    {
     "name": "stdout",
     "output_type": "stream",
     "text": [
      "0.9285714285714286 "
     ]
    }
   ],
   "source": [
    "X_train_reduced, X_test_reduced, X_cv_reduced = pca(X_train, X_test, X_cv, 0.85)\n",
    "\n",
    "trainer = SVC(kernel='sigmoid')\n",
    "trainer.fit(X_train_reduced,Y_train)\n",
    "print(accuracy_score(y_cv,trainer.predict(X_cv_reduced)), end=' ')"
   ]
  },
  {
   "cell_type": "code",
   "execution_count": 23,
   "metadata": {},
   "outputs": [
    {
     "name": "stdout",
     "output_type": "stream",
     "text": [
      "0.9642857142857143 "
     ]
    }
   ],
   "source": [
    "X_train_reduced, X_test_reduced, X_cv_reduced = wilcoxon_test(X_train, X_test, X_cv, Y_train,0.005)\n",
    "\n",
    "trainer = SVC(kernel='sigmoid')\n",
    "trainer.fit(X_train_reduced,Y_train)\n",
    "print(accuracy_score(y_cv,trainer.predict(X_cv_reduced)), end=' ')"
   ]
  },
  {
   "cell_type": "markdown",
   "metadata": {},
   "source": [
    "### We can notice that selection and reduction methods reduced total time of learning and testing by a factor of 10, while maintaining the accuracy or increasing it."
   ]
  }
 ],
 "metadata": {
  "interpreter": {
   "hash": "588d49391b6d3799a162df0222124dcb982f2f3fb55a5b5f4bcdbe6ca376e2a6"
  },
  "kernelspec": {
   "display_name": "Python 3",
   "language": "python",
   "name": "python3"
  },
  "language_info": {
   "codemirror_mode": {
    "name": "ipython",
    "version": 3
   },
   "file_extension": ".py",
   "mimetype": "text/x-python",
   "name": "python",
   "nbconvert_exporter": "python",
   "pygments_lexer": "ipython3",
   "version": "3.10.2"
  }
 },
 "nbformat": 4,
 "nbformat_minor": 4
}
