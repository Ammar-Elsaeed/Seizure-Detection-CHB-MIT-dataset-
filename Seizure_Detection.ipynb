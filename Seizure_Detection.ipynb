{
 "cells": [
  {
   "cell_type": "code",
   "execution_count": 5,
   "metadata": {},
   "outputs": [],
   "source": [
    "import numpy as np\n",
    "import pandas as pd"
   ]
  },
  {
   "cell_type": "code",
   "execution_count": 6,
   "metadata": {},
   "outputs": [],
   "source": [
    "eeg_sampling =256\n",
    "#Preprocessing\n",
    "def apply_filter(signal, low_freq=None,high_freq=None):\n",
    "    # apply a bandpass filter to the signal where a and b are the corner frequencies\n",
    "    low_freq = low_freq/eeg_sampling\n",
    "    high_freq = high_freq/eeg_sampling\n",
    "    b,a = sig.butter(1,[low_freq,high_freq], btype=\"bandpass\")\n",
    "    filtered_signal = sig.filtfilt(b,a,signal,axis=1) \n",
    "    return filtered_signal\n",
    "def filter_bank(signal,cutoffs=None):\n",
    "    if (cutoffs == None):\n",
    "        cutoffs = [0.5,4,8,12,25]\n",
    "    filtered_signals = np.empty([len(cutoffs)-1,signal.shape[0],signal.shape[1],signal.shape[2]]) # 4 * 68 * 15360 * 23\n",
    "    for band in range(len(cutoffs)-1):\n",
    "        bands = [cutoffs[band],cutoffs[band+1]]\n",
    "        filtered_signals[band,:,:,:] = apply_filter(signal, low_freq=bands[0],high_freq=bands[1])\n",
    "    return filtered_signals\n",
    "def normalization(train_features,test_features=None):\n",
    "    # mean and min-max normalization\n",
    "    norm_train_features = np.empty([train_features.shape[0],train_features.shape[1]])\n",
    "    if (test_features==None):\n",
    "        for feature in range(train_features.shape[1]):\n",
    "            train_column = train_features[:,feature]\n",
    "            norm_train_features[:,feature] = (train_column - np.min(train_column)) / (np.max(train_column)-np.min(train_column))\n",
    "        return norm_train_features\n",
    "    else:\n",
    "        norm_test_features = np.empty([test_features.shape[0],test_features.shape[1]])\n",
    "        for feature in range(train_features.shape[1]):\n",
    "            train_column = train_features[:,feature]\n",
    "            norm_train_features[:,feature] = (train_column - np.min(train_column)) / (np.max(train_column)-np.min(train_column))\n",
    "            test_column = test_features[:,feature]\n",
    "            norm_test_features[:,feature] = (test_column - np.min(train_column)) / (np.max(train_column)-np.min(train_column))\n",
    "        return norm_train_features,norm_test_features\n",
    "def subset_trials(signal,trial_length):\n",
    "    # subset the loaded signal to trials of a certain length and return it as a np array\n",
    "    signal = np.asarray(signal)\n",
    "    samples_per_trial = (trial_length*60*eeg_sampling)\n",
    "    num_trials = int(np.floor(signal.shape[0]/samples_per_trial))\n",
    "    subsetted_signal = np.empty([num_trials,samples_per_trial,23])\n",
    "    for trial in range(num_trials):\n",
    "        for electrode in range(23):\n",
    "            trial_start = samples_per_trial*trial\n",
    "            trial_end = trial_start + samples_per_trial\n",
    "            subsetted_signal[trial,:,electrode] = signal[trial_start:trial_end,electrode]\n",
    "    \n",
    "    if (signal[0,-1]==0):\n",
    "        labels = np.zeros(num_trials)\n",
    "    else:\n",
    "        labels = np.ones(num_trials)\n",
    "    return subsetted_signal,labels # trials * samples * electrodes\n",
    "\n",
    "subsetted_signal = subset_trials(data,1)"
   ]
  },
  {
   "cell_type": "code",
   "execution_count": 7,
   "metadata": {},
   "outputs": [],
   "source": [
    "#Feature extraction\n",
    "def freq_features():\n",
    "    #Compute frequency features for signal (from paper)\n",
    "    return frequency_features\n",
    "def stat_features(signal):\n",
    "    # compute mean skewness variance and kurtosis on time domain signal and wavelet coefficients\n",
    "    # mean,variance,skewness,kurtosis = np.empty(signal.shape)\n",
    "    # for trial in range(signal.shape[0]):\n",
    "    #     for electrode in range(signal.shape[2]):\n",
    "    #         mean = np.mean(signal[trial,:,electrode])\n",
    "    return statistical_features\n",
    "def pypackage_features():\n",
    "    #use popular python packages to extract features from eeg signals (pyeeg,EEGlib,Cesuim)\n",
    "    return package_features\n"
   ]
  },
  {
   "cell_type": "code",
   "execution_count": 8,
   "metadata": {},
   "outputs": [],
   "source": [
    "#Feature selection & reduction\n",
    "def mutual_info(features,cdf):\n",
    "    # use mutual information as a criteria to select the best features, and return them\n",
    "    return selected_features\n",
    "def wilcoxon_test(features,p_value):\n",
    "    # use wilcoxon test as a criteria to select the best features, and return them\n",
    "     return selected_features\n",
    "def pca(features,variance):\n",
    "    # use PCA for feature reduction with a specified variance to keep.\n",
    "    return reduced_features"
   ]
  },
  {
   "cell_type": "code",
   "execution_count": 9,
   "metadata": {},
   "outputs": [],
   "source": [
    "from sklearn.model_selection import KFold\n",
    "import pyeeg \n",
    "from eeglib import features\n",
    "import pywt #py wavelets pywt.wavedec()\n",
    "from sklearn import svm\n",
    "from sklearn.feature_selection import mutual_info_classif,SelectKBest, SelectPercentile #for mutual info\n",
    "from sklearn.decomposition import PCA\n",
    "from scipy.stats import ranksums # for wilcoxon function\n",
    "from scipy import signal as sig"
   ]
  },
  {
   "cell_type": "code",
   "execution_count": 4,
   "metadata": {},
   "outputs": [],
   "source": [
    "#Load signal \n",
    "data = pd.read_csv('chbmit_preprocessed_data.csv')\n",
    "data.columns\n",
    "grouped_data = data.groupby('Outcome')\n",
    "preictal_data = grouped_data.get_group(0)\n",
    "ictal_data = grouped_data.get_group(1)"
   ]
  },
  {
   "cell_type": "code",
   "execution_count": 10,
   "metadata": {},
   "outputs": [
    {
     "name": "stdout",
     "output_type": "stream",
     "text": [
      "Index(['# FP1-F7', 'C3-P3', 'C4-P4', 'CZ-PZ', 'F3-C3', 'F4-C4', 'F7-T7',\n",
      "       'F8-T8', 'FP1-F3', 'FP2-F4', 'FP2-F8', 'FT10-T8', 'FT9-FT10', 'FZ-CZ',\n",
      "       'P3-O1', 'P4-O2', 'P7-O1', 'P7-T7', 'P8-O2', 'T7-FT9', 'T7-P7',\n",
      "       'T8-P8-0', 'T8-P8-1', 'Outcome'],\n",
      "      dtype='object')\n",
      "(1048575, 24)\n",
      "(1048575, 24)\n",
      "68.2666015625\n"
     ]
    }
   ],
   "source": [
    "#  data exploration \n",
    "print(preictal_data.columns)\n",
    "print(preictal_data.shape)\n",
    "print(ictal_data.shape)\n",
    "print(preictal_data.shape[0]/(256*60)) # print length of recording in minutes, 256 is sampling frequency"
   ]
  },
  {
   "cell_type": "code",
   "execution_count": 11,
   "metadata": {},
   "outputs": [],
   "source": [
    "# create trials split data to train and test\n",
    "subsetted_preictal, labels_preictal = subset_trials(preictal_data,1)\n",
    "subsetted_ictal, labels_ictal = subset_trials(ictal_data,1)\n",
    "all_trials = np.concatenate((subsetted_preictal,subsetted_ictal), axis=0) # 136 * 15360 * 23\n",
    "all_labels = np.concatenate((labels_preictal,labels_ictal), axis=0) #Zero is preictal, 1 is ictal"
   ]
  },
  {
   "cell_type": "code",
   "execution_count": 12,
   "metadata": {},
   "outputs": [
    {
     "ename": "IndentationError",
     "evalue": "expected an indented block (4065481370.py, line 7)",
     "output_type": "error",
     "traceback": [
      "\u001b[1;36m  File \u001b[1;32m\"C:\\Users\\Ammar El-Saeed\\AppData\\Local\\Temp\\ipykernel_2068\\4065481370.py\"\u001b[1;36m, line \u001b[1;32m7\u001b[0m\n\u001b[1;33m    # call SVM classifier and output the result\u001b[0m\n\u001b[1;37m                                               ^\u001b[0m\n\u001b[1;31mIndentationError\u001b[0m\u001b[1;31m:\u001b[0m expected an indented block\n"
     ]
    }
   ],
   "source": [
    "# split data to train and test\n",
    "kfold = KFold(n_splits= 10,shuffle= True, random_state=42)\n",
    "for train_Idx, test_Idx in kfold.split(all_labels):\n",
    "    # call preprocessing\n",
    "    # call feature extraction\n",
    "    # call feature selection\n",
    "    # call SVM classifier and output the result"
   ]
  }
 ],
 "metadata": {
  "interpreter": {
   "hash": "588d49391b6d3799a162df0222124dcb982f2f3fb55a5b5f4bcdbe6ca376e2a6"
  },
  "kernelspec": {
   "display_name": "Python 3.9.7 64-bit",
   "language": "python",
   "name": "python3"
  },
  "language_info": {
   "codemirror_mode": {
    "name": "ipython",
    "version": 3
   },
   "file_extension": ".py",
   "mimetype": "text/x-python",
   "name": "python",
   "nbconvert_exporter": "python",
   "pygments_lexer": "ipython3",
   "version": "3.9.7"
  },
  "orig_nbformat": 4
 },
 "nbformat": 4,
 "nbformat_minor": 2
}
