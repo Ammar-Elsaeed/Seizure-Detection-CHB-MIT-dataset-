{
 "cells": [
  {
   "cell_type": "code",
   "execution_count": 1,
   "metadata": {},
   "outputs": [],
   "source": [
    "import numpy as np\n",
    "import pandas as pd\n",
    "from numpy.fft import fft, fftfreq , rfft, rfftfreq\n",
    "from sklearn.model_selection import KFold\n",
    "# import pyeeg \n",
    "# from eeglib import features\n",
    "import pywt #py wavelets pywt.wavedec()\n",
    "from sklearn.svm import SVC\n",
    "from sklearn.metrics import accuracy_score\n",
    "from sklearn.preprocessing import StandardScaler\n",
    "from sklearn.model_selection import train_test_split\n",
    "from sklearn.feature_selection import mutual_info_classif,SelectKBest, SelectPercentile #for mutual info\n",
    "from sklearn.decomposition import PCA\n",
    "from scipy.stats import ranksums # for wilcoxon function\n",
    "from scipy import signal as sig\n",
    "from scipy.stats import skew,kurtosis\n",
    "from sklearn.model_selection import cross_validate"
   ]
  },
  {
   "cell_type": "code",
   "execution_count": 2,
   "metadata": {},
   "outputs": [
    {
     "name": "stdout",
     "output_type": "stream",
     "text": [
      "Index(['# FP1-F7', 'C3-P3', 'C4-P4', 'CZ-PZ', 'F3-C3', 'F4-C4', 'F7-T7',\n",
      "       'F8-T8', 'FP1-F3', 'FP2-F4', 'FP2-F8', 'FT10-T8', 'FT9-FT10', 'FZ-CZ',\n",
      "       'P3-O1', 'P4-O2', 'P7-O1', 'P7-T7', 'P8-O2', 'T7-FT9', 'T7-P7',\n",
      "       'T8-P8-0', 'T8-P8-1', 'Outcome'],\n",
      "      dtype='object')\n",
      "(1048575, 24)\n",
      "(1048575, 24)\n",
      "68.2666015625\n"
     ]
    }
   ],
   "source": [
    "#Load signal \n",
    "data = pd.read_csv('chbmit_preprocessed_data.csv')\n",
    "data.columns\n",
    "grouped_data = data.groupby('Outcome')\n",
    "preictal_data = grouped_data.get_group(0)\n",
    "ictal_data = grouped_data.get_group(1)\n",
    "#  data exploration \n",
    "print(preictal_data.columns)\n",
    "print(preictal_data.shape)\n",
    "print(ictal_data.shape)\n",
    "print(preictal_data.shape[0]/(256*60)) # print length of recording in minutes, 256 is sampling frequency"
   ]
  },
  {
   "cell_type": "code",
   "execution_count": 3,
   "metadata": {},
   "outputs": [],
   "source": [
    "eeg_sampling =256\n",
    "#Preprocessing\n",
    "def apply_filter(signal, low_freq=None,high_freq=None):\n",
    "    # apply a bandpass filter to the signal where a and b are the corner frequencies\n",
    "    low_freq = low_freq/eeg_sampling\n",
    "    high_freq = high_freq/eeg_sampling\n",
    "    b,a = sig.butter(1,[low_freq,high_freq], btype=\"bandpass\")\n",
    "    filtered_signal = sig.filtfilt(b,a,signal,axis=1) \n",
    "    return filtered_signal\n",
    "def filter_bank(signal,cutoffs=None):\n",
    "    if (cutoffs == None):\n",
    "        cutoffs = [0.5,4,8,12,25]\n",
    "    filtered_signals = np.empty([len(cutoffs)-1,signal.shape[0],signal.shape[1],signal.shape[2]]) # 4 * 68 * 15360 * 23\n",
    "    for band in range(len(cutoffs)-1):\n",
    "        bands = [cutoffs[band],cutoffs[band+1]]\n",
    "        filtered_signals[band,:,:,:] = apply_filter(signal, low_freq=bands[0],high_freq=bands[1])\n",
    "    return filtered_signals\n",
    "def split_data(X,Y,split_ratio = 0.2,normalization=True):\n",
    "    X_train, X_test, Y_train, Y_test = train_test_split(X, Y, test_size=split_ratio, random_state=1)\n",
    "    if normalization:\n",
    "        Scaler_tr = StandardScaler().fit(X_train)\n",
    "        X_train = Scaler_tr.transform(X_train)\n",
    "        X_test = Scaler_tr.transform(X_test)\n",
    "    \n",
    "    return X_train, X_test, Y_train, Y_test\n",
    "    \n",
    "def subset_trials(signal,trial_length):\n",
    "    # subset the loaded signal to trials of a certain length and return it as a np array\n",
    "    signal = np.asarray(signal)\n",
    "    samples_per_trial = (trial_length*60*eeg_sampling)\n",
    "    num_trials = int(np.floor(signal.shape[0]/samples_per_trial))\n",
    "    subsetted_signal = np.empty([num_trials,samples_per_trial,23])\n",
    "    for trial in range(num_trials):\n",
    "        for electrode in range(23):\n",
    "            trial_start = samples_per_trial*trial\n",
    "            trial_end = trial_start + samples_per_trial\n",
    "            subsetted_signal[trial,:,electrode] = signal[trial_start:trial_end,electrode]\n",
    "    \n",
    "    if (signal[0,-1]==0):\n",
    "        labels = np.zeros(num_trials)\n",
    "    else:\n",
    "        labels = np.ones(num_trials)\n",
    "    return subsetted_signal,labels # trials * samples * electrodes\n",
    "\n",
    "subsetted_signal = subset_trials(data,1)"
   ]
  },
  {
   "cell_type": "code",
   "execution_count": 4,
   "metadata": {},
   "outputs": [],
   "source": [
    "#Feature extraction\n",
    "def peak_frequency(signal):\n",
    "    peak_freq = []\n",
    "    ft = fft(signal)\n",
    "    mag = np.abs(ft)\n",
    "    freq = fftfreq(mag.size,1/256)\n",
    "    \n",
    "    cutoffs = [0.5,4,8,12,25]\n",
    "    for i in range(len(cutoffs)-1):\n",
    "        cut_freq = freq[np.logical_and(freq>cutoffs[i],freq<cutoffs[i+1])]\n",
    "        cut_mag = mag[np.logical_and(freq>cutoffs[i],freq<cutoffs[i+1])]\n",
    "        peak_freq.append(cut_freq[cut_mag==max(cut_mag)][0])\n",
    "\n",
    "    return peak_freq\n",
    "\n",
    "def extract_features(signal):\n",
    "    peak_freq = []\n",
    "    rms = []\n",
    "    entropy = []\n",
    "    stat_features = []\n",
    "    for trial in range(signal.shape[0]):\n",
    "        trial_stat = []\n",
    "        trial_freq = []\n",
    "        trial_rms = []\n",
    "        trial_entropy = []\n",
    "        \n",
    "        for electrode in range(signal.shape[2]):\n",
    "            trial_rms.append(np.sqrt(np.mean(signal[trial,:,electrode]**2)))\n",
    "            trial_entropy.append(np.sum(signal[trial,:,electrode]*np.log(signal[trial,:,electrode]**2)))\n",
    "            trial_freq += peak_frequency(signal[trial,:,electrode])\n",
    "\n",
    "            trial_stat.append(np.mean(signal[trial,:,electrode]))\n",
    "            trial_stat.append(np.var(signal[trial,:,electrode]))\n",
    "            trial_stat.append(skew(signal[trial,:,electrode]))\n",
    "            trial_stat.append(kurtosis(signal[trial,:,electrode]))\n",
    "\n",
    "            coeff = pywt.wavedec(signal[trial,:,electrode],'db4',level=5)\n",
    "            for level in range(len(coeff)):\n",
    "                trial_stat.append(np.mean(coeff[level],axis =0))\n",
    "                trial_stat.append(np.var(coeff[level],axis =0))\n",
    "                trial_stat.append(skew(coeff[level],axis =0))\n",
    "                trial_stat.append(kurtosis(coeff[level],axis =0))\n",
    "        peak_freq.append(trial_freq)\n",
    "        rms.append(trial_rms)\n",
    "        entropy.append(trial_entropy)\n",
    "        stat_features.append(trial_stat)\n",
    "    \n",
    "    features = np.concatenate((peak_freq,rms,entropy,stat_features),axis=1)\n",
    "    return features\n",
    "\n",
    "\n",
    "def pypackage_features():\n",
    "#use popular python packages to extract features from eeg signals (pyeeg,EEGlib,Cesuim)\n",
    "    return package_features\n",
    "\n",
    "    \n",
    "            \n",
    "        \n",
    "\n"
   ]
  },
  {
   "cell_type": "code",
   "execution_count": null,
   "metadata": {},
   "outputs": [],
   "source": []
  },
  {
   "cell_type": "code",
   "execution_count": 27,
   "metadata": {},
   "outputs": [],
   "source": [
    "#Feature selection & reduction\n",
    "def mutual_info(X_train, X_test, X_cv, y_train, cdf):\n",
    "    # use mutual information as a criteria to select the best features, and return them\n",
    "    select_percentile = SelectPercentile(\n",
    "        mutual_info_classif, cdf)  # Here cdf should be 10 for 10%\n",
    "    # Not sure if this the way to do it, but here we go\n",
    "    selected_features_train = select_percentile.fit_transform(X_train, y_train)\n",
    "    selected_features_test = select_percentile.transform(X_test)\n",
    "    selected_features_cv = select_percentile.transform(X_cv)\n",
    "    return selected_features_train, selected_features_test, selected_features_cv\n",
    "def wilcoxon_test(features, p_value):\n",
    "    # use wilcoxon test as a criteria to select the best features, and return them\n",
    "    selected_features = []\n",
    "    for i in range(len(features)):\n",
    "        significant = True\n",
    "        for j in range(i + 1, len(features)):\n",
    "            rank = ranksums(features[:, i], features[:, j])\n",
    "            if (rank.pvalue > p_value):\n",
    "                significant = False\n",
    "                break\n",
    "        if significant:\n",
    "            selected_features.append(features[:, i])\n",
    "    return selected_features\n",
    "def pca(X_train, X_test, X_cv, variance):\n",
    "    # use PCA for feature reduction with a specified variance to keep.\n",
    "    pca = PCA(n_components=variance)\n",
    "    principal_components_train = pca.fit_transform(X_train)\n",
    "    principal_components_cv = pca.transform(X_cv)\n",
    "    principal_components_test = pca.transform(X_test)\n",
    "#     reduced_features = pd.DataFrame(data=principal_components)\n",
    "    return principal_components_train, principal_components_test, principal_components_cv"
   ]
  },
  {
   "cell_type": "code",
   "execution_count": 6,
   "metadata": {},
   "outputs": [],
   "source": [
    "# create trials split data to train and test\n",
    "subsetted_preictal, labels_preictal = subset_trials(preictal_data,1)\n",
    "subsetted_ictal, labels_ictal = subset_trials(ictal_data,1)\n",
    "all_trials = np.concatenate((subsetted_preictal,subsetted_ictal), axis=0) # 136 * 15360 * 23\n",
    "all_labels = np.concatenate((labels_preictal,labels_ictal), axis=0) #Zero is preictal, 1 is ictal"
   ]
  },
  {
   "cell_type": "code",
   "execution_count": 30,
   "metadata": {},
   "outputs": [
    {
     "name": "stdout",
     "output_type": "stream",
     "text": [
      "0.9272727272727272\n"
     ]
    },
    {
     "name": "stderr",
     "output_type": "stream",
     "text": [
      "c:\\users\\ramadan\\appdata\\local\\programs\\python\\python38\\lib\\site-packages\\sklearn\\utils\\validation.py:70: FutureWarning: Pass percentile=10 as keyword args. From version 1.0 (renaming of 0.25) passing these as positional arguments will result in an error\n",
      "  warnings.warn(f\"Pass {args_msg} as keyword args. From version \"\n"
     ]
    },
    {
     "name": "stdout",
     "output_type": "stream",
     "text": [
      "0.9642857142857143 "
     ]
    }
   ],
   "source": [
    "# features = np.concatenate((freq_features(all_trials),stat_features(all_trials)), axis=1)\n",
    "X_train, X_test, Y_train, Y_test = split_data(extract_features(all_trials),all_labels, 0.4)\n",
    "trainer = SVC(kernel='sigmoid')\n",
    "trainer.fit(X_train,Y_train)\n",
    "print(accuracy_score(Y_test,trainer.predict(X_test)))\n",
    "# -------------------------\n",
    "X_test, X_cv, y_test, y_cv = split_data(X_test, Y_test, 0.5, False)\n",
    "\n",
    "X_train_reduced, X_test_reduced, X_cv_reduced = mutual_info(X_train, X_test, X_cv, Y_train, 10)\n",
    "\n",
    "# X_train_reduced, X_test_reduced, X_cv_reduced = pca(X_train, X_test, X_cv, 20)\n",
    "\n",
    "trainer = SVC(kernel='sigmoid')\n",
    "trainer.fit(X_train_reduced,Y_train)\n",
    "print(accuracy_score(y_cv,trainer.predict(X_cv_reduced)), end=' ')"
   ]
  },
  {
   "cell_type": "code",
   "execution_count": 31,
   "metadata": {},
   "outputs": [
    {
     "ename": "IndexError",
     "evalue": "index 82 is out of bounds for axis 0 with size 81",
     "output_type": "error",
     "traceback": [
      "\u001b[1;31m---------------------------------------------------------------------------\u001b[0m",
      "\u001b[1;31mIndexError\u001b[0m                                Traceback (most recent call last)",
      "\u001b[1;32m<ipython-input-31-435ee24aca14>\u001b[0m in \u001b[0;36m<module>\u001b[1;34m\u001b[0m\n\u001b[0;32m      2\u001b[0m \u001b[0mkfold\u001b[0m \u001b[1;33m=\u001b[0m \u001b[0mKFold\u001b[0m\u001b[1;33m(\u001b[0m\u001b[0mn_splits\u001b[0m\u001b[1;33m=\u001b[0m \u001b[1;36m10\u001b[0m\u001b[1;33m,\u001b[0m\u001b[0mshuffle\u001b[0m\u001b[1;33m=\u001b[0m \u001b[1;32mTrue\u001b[0m\u001b[1;33m,\u001b[0m \u001b[0mrandom_state\u001b[0m\u001b[1;33m=\u001b[0m\u001b[1;36m42\u001b[0m\u001b[1;33m)\u001b[0m\u001b[1;33m\u001b[0m\u001b[1;33m\u001b[0m\u001b[0m\n\u001b[0;32m      3\u001b[0m \u001b[1;32mfor\u001b[0m \u001b[0mtrain_Idx\u001b[0m\u001b[1;33m,\u001b[0m \u001b[0mtest_Idx\u001b[0m \u001b[1;32min\u001b[0m \u001b[0mkfold\u001b[0m\u001b[1;33m.\u001b[0m\u001b[0msplit\u001b[0m\u001b[1;33m(\u001b[0m\u001b[0mall_labels\u001b[0m\u001b[1;33m)\u001b[0m\u001b[1;33m:\u001b[0m\u001b[1;33m\u001b[0m\u001b[1;33m\u001b[0m\u001b[0m\n\u001b[1;32m----> 4\u001b[1;33m     \u001b[0mX_train\u001b[0m\u001b[1;33m,\u001b[0m \u001b[0mX_test\u001b[0m \u001b[1;33m=\u001b[0m \u001b[0mX_train\u001b[0m\u001b[1;33m[\u001b[0m\u001b[0mtrain_Idx\u001b[0m\u001b[1;33m]\u001b[0m\u001b[1;33m,\u001b[0m \u001b[0mX_test\u001b[0m\u001b[1;33m[\u001b[0m\u001b[0mtest_Idx\u001b[0m\u001b[1;33m]\u001b[0m\u001b[1;33m\u001b[0m\u001b[1;33m\u001b[0m\u001b[0m\n\u001b[0m\u001b[0;32m      5\u001b[0m     \u001b[0my_train\u001b[0m\u001b[1;33m,\u001b[0m \u001b[0my_test\u001b[0m \u001b[1;33m=\u001b[0m \u001b[0my_train\u001b[0m\u001b[1;33m[\u001b[0m\u001b[0mtrain_Idx\u001b[0m\u001b[1;33m]\u001b[0m\u001b[1;33m,\u001b[0m \u001b[0my_test\u001b[0m\u001b[1;33m[\u001b[0m\u001b[0mtest_Idx\u001b[0m\u001b[1;33m]\u001b[0m\u001b[1;33m\u001b[0m\u001b[1;33m\u001b[0m\u001b[0m\n\u001b[0;32m      6\u001b[0m     \u001b[1;31m# call preprocessing\u001b[0m\u001b[1;33m\u001b[0m\u001b[1;33m\u001b[0m\u001b[1;33m\u001b[0m\u001b[0m\n",
      "\u001b[1;31mIndexError\u001b[0m: index 82 is out of bounds for axis 0 with size 81"
     ]
    }
   ],
   "source": [
    "# split data to train and test\n",
    "kfold = KFold(n_splits= 10,shuffle= True, random_state=42)\n",
    "for train_Idx, test_Idx in kfold.split(all_labels):\n",
    "    # call preprocessing\n",
    "    # call feature extraction\n",
    "    # call feature selection\n",
    "    # call SVM classifier and output the result\n",
    "    pass"
   ]
  },
  {
   "cell_type": "code",
   "execution_count": null,
   "metadata": {},
   "outputs": [],
   "source": []
  }
 ],
 "metadata": {
  "interpreter": {
   "hash": "588d49391b6d3799a162df0222124dcb982f2f3fb55a5b5f4bcdbe6ca376e2a6"
  },
  "kernelspec": {
   "display_name": "Python 3",
   "language": "python",
   "name": "python3"
  },
  "language_info": {
   "codemirror_mode": {
    "name": "ipython",
    "version": 3
   },
   "file_extension": ".py",
   "mimetype": "text/x-python",
   "name": "python",
   "nbconvert_exporter": "python",
   "pygments_lexer": "ipython3",
   "version": "3.8.3"
  }
 },
 "nbformat": 4,
 "nbformat_minor": 4
}
